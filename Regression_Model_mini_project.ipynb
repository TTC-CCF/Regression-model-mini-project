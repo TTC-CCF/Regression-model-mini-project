{
  "nbformat": 4,
  "nbformat_minor": 0,
  "metadata": {
    "colab": {
      "provenance": [],
      "include_colab_link": true
    },
    "kernelspec": {
      "name": "python3",
      "display_name": "Python 3"
    },
    "language_info": {
      "name": "python"
    }
  },
  "cells": [
    {
      "cell_type": "markdown",
      "metadata": {
        "id": "view-in-github",
        "colab_type": "text"
      },
      "source": [
        "<a href=\"https://colab.research.google.com/github/TTC-CCF/Regression-model-mini-project/blob/main/Regression_Model_mini_project.ipynb\" target=\"_parent\"><img src=\"https://colab.research.google.com/assets/colab-badge.svg\" alt=\"Open In Colab\"/></a>"
      ]
    },
    {
      "cell_type": "markdown",
      "source": [
        "# 分析台北市雨量和空氣品質指標(AQI)的關係圖\n",
        "\n"
      ],
      "metadata": {
        "id": "D7C-ntaN_8Oq"
      }
    },
    {
      "cell_type": "markdown",
      "source": [
        "### 從我的Google drive讀取資料"
      ],
      "metadata": {
        "id": "hFxos39qHqQV"
      }
    },
    {
      "cell_type": "code",
      "source": [
        "from google.colab import drive\n",
        "drive.mount('/content/drive')"
      ],
      "metadata": {
        "id": "ufg_UPwDHxKp",
        "outputId": "3ead7223-feae-45b0-846c-cb05b7083240",
        "colab": {
          "base_uri": "https://localhost:8080/"
        }
      },
      "execution_count": null,
      "outputs": [
        {
          "output_type": "stream",
          "name": "stdout",
          "text": [
            "Mounted at /content/drive\n"
          ]
        }
      ]
    },
    {
      "cell_type": "markdown",
      "source": [
        "### 下載pandas_ods_reader"
      ],
      "metadata": {
        "id": "AnCuuEnwoMIZ"
      }
    },
    {
      "cell_type": "code",
      "source": [
        "!pip install pandas_ods_reader"
      ],
      "metadata": {
        "id": "_Wt31UoJUcxQ",
        "outputId": "af251846-5166-4748-9f7f-685d7d2854f9",
        "colab": {
          "base_uri": "https://localhost:8080/"
        }
      },
      "execution_count": null,
      "outputs": [
        {
          "output_type": "stream",
          "name": "stdout",
          "text": [
            "Looking in indexes: https://pypi.org/simple, https://us-python.pkg.dev/colab-wheels/public/simple/\n",
            "Collecting pandas_ods_reader\n",
            "  Downloading pandas_ods_reader-0.1.4-py3-none-any.whl (6.7 kB)\n",
            "Requirement already satisfied: lxml<5.0.0,>=4.6.3 in /usr/local/lib/python3.7/dist-packages (from pandas_ods_reader) (4.9.1)\n",
            "Collecting ezodf<0.4.0,>=0.3.2\n",
            "  Downloading ezodf-0.3.2.tar.gz (125 kB)\n",
            "\u001b[K     |████████████████████████████████| 125 kB 5.0 MB/s \n",
            "\u001b[?25hRequirement already satisfied: pandas<2.0.0,>=1.0.0 in /usr/local/lib/python3.7/dist-packages (from pandas_ods_reader) (1.3.5)\n",
            "Requirement already satisfied: importlib_metadata<5.0.0,>=4.8.1 in /usr/local/lib/python3.7/dist-packages (from pandas_ods_reader) (4.13.0)\n",
            "Requirement already satisfied: zipp>=0.5 in /usr/local/lib/python3.7/dist-packages (from importlib_metadata<5.0.0,>=4.8.1->pandas_ods_reader) (3.10.0)\n",
            "Requirement already satisfied: typing-extensions>=3.6.4 in /usr/local/lib/python3.7/dist-packages (from importlib_metadata<5.0.0,>=4.8.1->pandas_ods_reader) (4.1.1)\n",
            "Requirement already satisfied: python-dateutil>=2.7.3 in /usr/local/lib/python3.7/dist-packages (from pandas<2.0.0,>=1.0.0->pandas_ods_reader) (2.8.2)\n",
            "Requirement already satisfied: pytz>=2017.3 in /usr/local/lib/python3.7/dist-packages (from pandas<2.0.0,>=1.0.0->pandas_ods_reader) (2022.6)\n",
            "Requirement already satisfied: numpy>=1.17.3 in /usr/local/lib/python3.7/dist-packages (from pandas<2.0.0,>=1.0.0->pandas_ods_reader) (1.21.6)\n",
            "Requirement already satisfied: six>=1.5 in /usr/local/lib/python3.7/dist-packages (from python-dateutil>=2.7.3->pandas<2.0.0,>=1.0.0->pandas_ods_reader) (1.15.0)\n",
            "Building wheels for collected packages: ezodf\n",
            "  Building wheel for ezodf (setup.py) ... \u001b[?25l\u001b[?25hdone\n",
            "  Created wheel for ezodf: filename=ezodf-0.3.2-py2.py3-none-any.whl size=49002 sha256=a50f5f9336981140277491ee699d4642b06b9b8c63c194f5a1bd456fe4ffa1c8\n",
            "  Stored in directory: /root/.cache/pip/wheels/8f/60/52/bffa36b97e0136aa62d54948d56e8770b96a5da7f9c65fdd85\n",
            "Successfully built ezodf\n",
            "Installing collected packages: ezodf, pandas-ods-reader\n",
            "Successfully installed ezodf-0.3.2 pandas-ods-reader-0.1.4\n"
          ]
        }
      ]
    },
    {
      "cell_type": "markdown",
      "source": [
        "### 程式碼\n",
        "如果無法讀取到檔案請下載作業中所附的壓縮檔，解壓縮後把「110405188傳院二邱品慈期中專案」這個資料夾上傳到自己google drive的「我的雲端硬碟」上，應該就可以跑了!"
      ],
      "metadata": {
        "id": "-Flp7MXmoSY5"
      }
    },
    {
      "cell_type": "code",
      "source": [
        "%matplotlib inline\n",
        "import matplotlib.pyplot as plt\n",
        "import pandas as pd\n",
        "from pandas_ods_reader import read_ods\n",
        "import xml.etree.ElementTree as et\n",
        "import os\n",
        "import numpy as np\n",
        "from sklearn import linear_model\n",
        "# 設定讀取資料路徑\n",
        "PATH = '/content/drive/My Drive/Regression Model mini project'\n",
        "os.chdir(PATH)\n",
        "\n",
        "# 解析xml 得到臺北2021年各月總雨量資料\n",
        "data = et.parse('dy_Report_2021.xml')\n",
        "root = data.getroot()\n",
        "ns = {'g':'urn:cwb.gov.tw:cwbdata-0.1'}             # xml namespace\n",
        "parent_map = {c: p for p in root.iter() for c in p}  # 用來找xml各層的上一層是什麼的parent_map\n",
        "percipitation = []\n",
        "for stationName in root.findall('./g:resources/g:resource/g:data/g:surfaceObs/g:location/g:station/g:stationName',ns):\n",
        "  if stationName.text == '臺北':\n",
        "    station = parent_map[stationName]\n",
        "    location = parent_map[station]\n",
        "    for monthly_total in location.findall('./g:stationObsStatistics/g:precipitation/g:monthly/g:total', ns):\n",
        "      percipitation.append(float(monthly_total.text))\n",
        "\n",
        "# 讀取ods資料 得到臺北2021年各月平均AQI\n",
        "avg_aqi = []\n",
        "for i in range(1,13):\n",
        "  m = \"0\"+str(i) if i < 10 else str(i)\n",
        "  file = '/2021各月AQI資料/2021'+m+'01_2021'+m+'07_日資料.ods'\n",
        "  aqi_data = read_ods(os.curdir+file, headers=False)\n",
        "  avg_aqi.append(sum(aqi_data.loc[1:,\"column.2\"])/len(aqi_data))\n",
        "\n",
        "# 印出2021年各月總雨量與各月平均AQI\n",
        "month = ['January','February','March','April','May','June','July','August','September','October','November','December']\n",
        "paqi = list(zip(percipitation,avg_aqi))\n",
        "PAQI_df = pd.DataFrame(paqi)\n",
        "PAQI_df.index = month\n",
        "PAQI_df.columns = [\"Percipitation\",\"AQI\"]\n",
        "print(PAQI_df,'\\n')\n",
        "\n",
        "# 用skylearn來迴歸分析相關性\n",
        "relation = linear_model.LinearRegression()\n",
        "relation.fit(np.array(avg_aqi).reshape(-1, 1), percipitation)\n",
        "xfit = np.linspace(30,80,1000)\n",
        "yfit = relation.predict(xfit[:,np.newaxis])\n",
        "print(\"相關係數:\\n\",PAQI_df.corr().loc[\"Percipitation\",\"AQI\"], '\\n')\n",
        "\n",
        "# 印出迴歸直線和散點圖\n",
        "plt.title(\"2021 Taipei Percipitation and AQI Regression Model\")\n",
        "plt.xlabel(\"Monthly Average AQI\")\n",
        "plt.ylabel(\"Monthly Total Percipitation\")\n",
        "plt.scatter(avg_aqi, percipitation)\n",
        "plt.plot(xfit,yfit, color = 'red')\n",
        "plt.show()\n"
      ],
      "metadata": {
        "id": "pupynDFTtaBk",
        "outputId": "62ccf254-5f0e-42e4-c71b-c10063f06692",
        "colab": {
          "base_uri": "https://localhost:8080/",
          "height": 590
        }
      },
      "execution_count": null,
      "outputs": [
        {
          "output_type": "stream",
          "name": "stdout",
          "text": [
            "           Percipitation        AQI\n",
            "January             41.0  45.282353\n",
            "February            46.5  76.882353\n",
            "March               77.5  57.705882\n",
            "April               60.0  66.858824\n",
            "May                119.5  70.352941\n",
            "June               316.5  48.552941\n",
            "July               288.0  47.176471\n",
            "August             409.0  45.952381\n",
            "September          181.5  43.481013\n",
            "October            245.0  38.064103\n",
            "November            70.0  53.628205\n",
            "December            54.0  51.367816 \n",
            "\n",
            "相關係數:\n",
            " -0.5331978714297576 \n",
            "\n"
          ]
        },
        {
          "output_type": "display_data",
          "data": {
            "text/plain": [
              "<Figure size 432x288 with 1 Axes>"
            ],
            "image/png": "[encoded data removed]"
          },
          "metadata": {
            "needs_background": "light"
          }
        }
      ]
    }
  ]
}